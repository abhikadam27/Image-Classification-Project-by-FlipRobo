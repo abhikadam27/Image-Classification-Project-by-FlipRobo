{
 "cells": [
  {
   "cell_type": "markdown",
   "id": "6b98b4d2",
   "metadata": {},
   "source": [
    "### Importing Libraries"
   ]
  },
  {
   "cell_type": "code",
   "execution_count": 1,
   "id": "0348898e",
   "metadata": {},
   "outputs": [],
   "source": [
    "#Import necessory libraries\n",
    "import selenium\n",
    "import pandas as pd\n",
    "import time\n",
    "import requests\n",
    "from selenium import webdriver\n",
    "from selenium.common.exceptions import NoSuchElementException\n",
    "from selenium.webdriver.support.ui import WebDriverWait"
   ]
  },
  {
   "cell_type": "code",
   "execution_count": 2,
   "id": "400dcced",
   "metadata": {},
   "outputs": [],
   "source": [
    "driver = webdriver.Chrome(r\"C:\\Users\\ABHINANDAN\\Desktop\\chromedriver.exe\")"
   ]
  },
  {
   "cell_type": "code",
   "execution_count": 3,
   "id": "b48a397b",
   "metadata": {},
   "outputs": [],
   "source": [
    "url = \"https://www.amazon.in/\"\n",
    "driver.get(url)\n",
    "time.sleep(3)"
   ]
  },
  {
   "cell_type": "code",
   "execution_count": 4,
   "id": "120e84f0",
   "metadata": {},
   "outputs": [],
   "source": [
    "def Search_bar(item):\n",
    "    srchbar = driver.find_element_by_id(\"twotabsearchtextbox\")\n",
    "    srchbar.clear()\n",
    "    srchbar.send_keys(item)\n",
    "    driver.find_element_by_id(\"nav-search-submit-button\").click()  #clicking on search button\n",
    "    time.sleep(1)"
   ]
  },
  {
   "cell_type": "code",
   "execution_count": 5,
   "id": "bec87f53",
   "metadata": {},
   "outputs": [],
   "source": [
    "Search_bar('Sarees')\n",
    "urls = []\n",
    "for i in range(7):\n",
    "    #defining function to fetch image urls\n",
    "    def image_url():\n",
    "        try:\n",
    "            nxt_page = driver.find_element_by_xpath(\"//li[@class='a-last']/a\")\n",
    "            link = nxt_page.get_attribute('href')\n",
    "            driver.get(link)\n",
    "            time.sleep(1)\n",
    "        except NoSuchElementException:\n",
    "            pass\n",
    "        for x in driver.find_elements_by_xpath(\"//div[@class='a-section aok-relative s-image-tall-aspect']/img\"):\n",
    "            urls.append(x.get_attribute('src'))\n",
    "    image_url()\n",
    "#lets find some filters for more images\n",
    "fltr1 = driver.find_element_by_xpath(\"//li[@id='p_89/ANNI DESIGNER']/span/a\").get_attribute('href')\n",
    "fltr2 = driver.find_element_by_xpath(\"//li[@aria-label='Banarasi']/span/a\").get_attribute('href')\n",
    "fltr3 = driver.find_element_by_xpath(\"//li[@aria-label='Lehenga Saree']/span/a\").get_attribute('href')\n",
    "fltr4 = driver.find_element_by_xpath(\"//li[@id='p_89/MIMOSA']/span/a\").get_attribute('href')\n",
    "filters=[fltr1,fltr2,fltr3,fltr4]\n",
    "for i in filters:\n",
    "    driver.get(i)\n",
    "    time.sleep(1)\n",
    "    for i in range(10):\n",
    "        image_url()"
   ]
  },
  {
   "cell_type": "code",
   "execution_count": 6,
   "id": "35fa8250",
   "metadata": {},
   "outputs": [
    {
     "data": {
      "text/plain": [
       "2406"
      ]
     },
     "execution_count": 6,
     "metadata": {},
     "output_type": "execute_result"
    }
   ],
   "source": [
    "len(urls)"
   ]
  },
  {
   "cell_type": "code",
   "execution_count": 7,
   "id": "dee06545",
   "metadata": {},
   "outputs": [],
   "source": [
    "#Downloading images in a folder\n",
    "for i in range(len(urls)):\n",
    "    response= requests.get(urls[i])\n",
    "\n",
    "    file = open(r\"C:\\Users\\ABHINANDAN\\Desktop\\amazon images/Saree_\"+str(i)+\".jpg\", \"wb\")\n",
    "\n",
    "    file.write(response.content)"
   ]
  },
  {
   "cell_type": "code",
   "execution_count": 12,
   "id": "19bf7881",
   "metadata": {},
   "outputs": [],
   "source": [
    "Search_bar('trousers for men')\n",
    "lnk = driver.find_element_by_xpath(\"//div[@class='a-section a-spacing-base a-spacing-top-base']/a\").get_attribute('href')\n",
    "driver.get(lnk)\n",
    "time.sleep(1)\n",
    "urls = []\n",
    "for i in range(7):\n",
    "    image_url()\n",
    "#lets find some filters for more images\n",
    "flter1 = driver.find_element_by_xpath(\"//li[@id='p_89/Peter England']/span/a\").get_attribute('href')\n",
    "flter2 = driver.find_element_by_xpath(\"//li[@aria-label='Linen']/span/a\").get_attribute('href')\n",
    "flter3 = driver.find_element_by_xpath(\"//li[@aria-label='Regular Fit']/span/a\").get_attribute('href')\n",
    "flter4 = driver.find_element_by_xpath(\"//li[@id='p_89/Allen Solly']/span/a\").get_attribute('href')\n",
    "filter_=[flter1,flter2,flter3,flter4]\n",
    "for i in filter_:\n",
    "    driver.get(i)\n",
    "    time.sleep(1)\n",
    "    for i in range(10):\n",
    "        image_url()"
   ]
  },
  {
   "cell_type": "code",
   "execution_count": 13,
   "id": "13ab4be7",
   "metadata": {},
   "outputs": [
    {
     "data": {
      "text/plain": [
       "2370"
      ]
     },
     "execution_count": 13,
     "metadata": {},
     "output_type": "execute_result"
    }
   ],
   "source": [
    "len(urls)"
   ]
  },
  {
   "cell_type": "code",
   "execution_count": 14,
   "id": "ff5da42a",
   "metadata": {},
   "outputs": [],
   "source": [
    "#Downloading images in a folder\n",
    "for i in range(len(urls)):\n",
    "    response= requests.get(urls[i])\n",
    "\n",
    "    file = open(r\"C:\\Users\\ABHINANDAN\\Desktop\\amazon images/Trouser_\"+str(i)+\".jpg\", \"wb\")\n",
    "\n",
    "    file.write(response.content)"
   ]
  },
  {
   "cell_type": "code",
   "execution_count": 17,
   "id": "37bf0c47",
   "metadata": {},
   "outputs": [],
   "source": [
    "#click on mens fassion button\n",
    "driver.find_element_by_xpath(\"//div[@class='spacious']/a[3]\").click()\n",
    "Search_bar('Jeans for men')\n",
    "urls = []\n",
    "for i in range(10):\n",
    "    image_url()\n",
    "#lets find some filters for more images\n",
    "flter1 = driver.find_element_by_xpath(\"//li[@id='p_89/Spykar']/span/a\").get_attribute('href')\n",
    "flter2 = driver.find_element_by_xpath(\"//li[@id='p_89/Generic']/span/a\").get_attribute('href')\n",
    "flter3 = driver.find_element_by_xpath(\"//li[@id='p_89/US Polo Association']/span/a\").get_attribute('href')\n",
    "flter4 = driver.find_element_by_xpath(\"//li[@id='p_89/Mufti']/span/a\").get_attribute('href')\n",
    "filter_=[flter1,flter2,flter3,flter4]\n",
    "for i in filter_:\n",
    "    driver.get(i)\n",
    "    time.sleep(1)\n",
    "    for i in range(10):\n",
    "        image_url()"
   ]
  },
  {
   "cell_type": "code",
   "execution_count": 18,
   "id": "6a2ce7d4",
   "metadata": {},
   "outputs": [
    {
     "data": {
      "text/plain": [
       "2556"
      ]
     },
     "execution_count": 18,
     "metadata": {},
     "output_type": "execute_result"
    }
   ],
   "source": [
    "len(urls)"
   ]
  },
  {
   "cell_type": "code",
   "execution_count": 19,
   "id": "51a6e4c2",
   "metadata": {},
   "outputs": [],
   "source": [
    "#Downloading images in a folder\n",
    "for i in range(len(urls)):\n",
    "    response= requests.get(urls[i])\n",
    "\n",
    "    file = open(r\"C:\\Users\\ABHINANDAN\\Desktop\\amazon images/Jeans_\"+str(i)+\".jpg\", \"wb\")\n",
    "\n",
    "    file.write(response.content)"
   ]
  },
  {
   "cell_type": "code",
   "execution_count": null,
   "id": "fe66b150",
   "metadata": {},
   "outputs": [],
   "source": []
  }
 ],
 "metadata": {
  "kernelspec": {
   "display_name": "Python 3",
   "language": "python",
   "name": "python3"
  },
  "language_info": {
   "codemirror_mode": {
    "name": "ipython",
    "version": 3
   },
   "file_extension": ".py",
   "mimetype": "text/x-python",
   "name": "python",
   "nbconvert_exporter": "python",
   "pygments_lexer": "ipython3",
   "version": "3.8.8"
  }
 },
 "nbformat": 4,
 "nbformat_minor": 5
}
